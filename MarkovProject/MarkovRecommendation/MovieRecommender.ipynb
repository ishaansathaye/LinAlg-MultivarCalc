{
 "metadata": {
  "language_info": {
   "codemirror_mode": {
    "name": "ipython",
    "version": 3
   },
   "file_extension": ".py",
   "mimetype": "text/x-python",
   "name": "python",
   "nbconvert_exporter": "python",
   "pygments_lexer": "ipython3",
   "version": "3.8.0-final"
  },
  "orig_nbformat": 2,
  "kernelspec": {
   "name": "python38064bitbb4406513352433eb654086721e8f9f1",
   "display_name": "Python 3.8.0 64-bit"
  }
 },
 "nbformat": 4,
 "nbformat_minor": 2,
 "cells": [
  {
   "source": [
    "# Markov Movie Recommender Program\n"
   ],
   "cell_type": "markdown",
   "metadata": {}
  },
  {
   "cell_type": "code",
   "execution_count": 72,
   "metadata": {},
   "outputs": [
    {
     "output_type": "stream",
     "name": "stdout",
     "text": [
      "--2020-12-08 18:10:22--  https://s3-api.us-geo.objectstorage.softlayer.net/cf-courses-data/CognitiveClass/ML0101ENv3/labs/moviedataset.zip\n",
      "Resolving s3-api.us-geo.objectstorage.softlayer.net (s3-api.us-geo.objectstorage.softlayer.net)... 67.228.254.196\n",
      "Connecting to s3-api.us-geo.objectstorage.softlayer.net (s3-api.us-geo.objectstorage.softlayer.net)|67.228.254.196|:443... connected.\n",
      "HTTP request sent, awaiting response... 200 OK\n",
      "Length: 160301210 (153M) [application/zip]\n",
      "Saving to: ‘moviedataset.zip’\n",
      "\n",
      "moviedataset.zip     31%[=====>              ]  48.39M  5.39MB/s    eta 21s    ^C\n",
      "unziping ...\n",
      "Archive:  moviedataset.zip\n",
      "  End-of-central-directory signature not found.  Either this file is not\n",
      "  a zipfile, or it constitutes one disk of a multi-part archive.  In the\n",
      "  latter case the central directory and zipfile comment will be found on\n",
      "  the last disk(s) of this archive.\n",
      "unzip:  cannot find zipfile directory in one of moviedataset.zip or\n",
      "        moviedataset.zip.zip, and cannot find moviedataset.zip.ZIP, period.\n"
     ]
    }
   ],
   "source": [
    "!wget -O moviedataset.zip https://s3-api.us-geo.objectstorage.softlayer.net/cf-courses-data/CognitiveClass/ML0101ENv3/labs/moviedataset.zip\n",
    "print('unziping ...')\n",
    "!unzip -o -j moviedataset.zip"
   ]
  },
  {
   "cell_type": "code",
   "execution_count": 74,
   "metadata": {},
   "outputs": [],
   "source": [
    "import pandas as pd\n",
    "from math import sqrt\n",
    "import numpy as np"
   ]
  },
  {
   "cell_type": "code",
   "execution_count": 263,
   "metadata": {},
   "outputs": [
    {
     "output_type": "execute_result",
     "data": {
      "text/plain": [
       "   movieId                               title  \\\n",
       "0        1                    Toy Story (1995)   \n",
       "1        2                      Jumanji (1995)   \n",
       "2        3             Grumpier Old Men (1995)   \n",
       "3        4            Waiting to Exhale (1995)   \n",
       "4        5  Father of the Bride Part II (1995)   \n",
       "\n",
       "                                        genres  \n",
       "0  Adventure|Animation|Children|Comedy|Fantasy  \n",
       "1                   Adventure|Children|Fantasy  \n",
       "2                               Comedy|Romance  \n",
       "3                         Comedy|Drama|Romance  \n",
       "4                                       Comedy  "
      ],
      "text/html": "<div>\n<style scoped>\n    .dataframe tbody tr th:only-of-type {\n        vertical-align: middle;\n    }\n\n    .dataframe tbody tr th {\n        vertical-align: top;\n    }\n\n    .dataframe thead th {\n        text-align: right;\n    }\n</style>\n<table border=\"1\" class=\"dataframe\">\n  <thead>\n    <tr style=\"text-align: right;\">\n      <th></th>\n      <th>movieId</th>\n      <th>title</th>\n      <th>genres</th>\n    </tr>\n  </thead>\n  <tbody>\n    <tr>\n      <th>0</th>\n      <td>1</td>\n      <td>Toy Story (1995)</td>\n      <td>Adventure|Animation|Children|Comedy|Fantasy</td>\n    </tr>\n    <tr>\n      <th>1</th>\n      <td>2</td>\n      <td>Jumanji (1995)</td>\n      <td>Adventure|Children|Fantasy</td>\n    </tr>\n    <tr>\n      <th>2</th>\n      <td>3</td>\n      <td>Grumpier Old Men (1995)</td>\n      <td>Comedy|Romance</td>\n    </tr>\n    <tr>\n      <th>3</th>\n      <td>4</td>\n      <td>Waiting to Exhale (1995)</td>\n      <td>Comedy|Drama|Romance</td>\n    </tr>\n    <tr>\n      <th>4</th>\n      <td>5</td>\n      <td>Father of the Bride Part II (1995)</td>\n      <td>Comedy</td>\n    </tr>\n  </tbody>\n</table>\n</div>"
     },
     "metadata": {},
     "execution_count": 263
    }
   ],
   "source": [
    "#Putting movie data and ratings data from csv into a Pandas DataFrame\n",
    "moviesDataFrame = pd.read_csv(\"movies.csv\")\n",
    "ratingsDataFrame = pd.read_csv(\"ratings.csv\")\n",
    "#Displaying first 5 rows of the movies dataframe\n",
    "moviesDataFrame.head()"
   ]
  },
  {
   "cell_type": "code",
   "execution_count": 264,
   "metadata": {},
   "outputs": [
    {
     "output_type": "execute_result",
     "data": {
      "text/plain": [
       "   movieId                        title  \\\n",
       "0        1                    Toy Story   \n",
       "1        2                      Jumanji   \n",
       "2        3             Grumpier Old Men   \n",
       "3        4            Waiting to Exhale   \n",
       "4        5  Father of the Bride Part II   \n",
       "\n",
       "                                        genres  year  \n",
       "0  Adventure|Animation|Children|Comedy|Fantasy  1995  \n",
       "1                   Adventure|Children|Fantasy  1995  \n",
       "2                               Comedy|Romance  1995  \n",
       "3                         Comedy|Drama|Romance  1995  \n",
       "4                                       Comedy  1995  "
      ],
      "text/html": "<div>\n<style scoped>\n    .dataframe tbody tr th:only-of-type {\n        vertical-align: middle;\n    }\n\n    .dataframe tbody tr th {\n        vertical-align: top;\n    }\n\n    .dataframe thead th {\n        text-align: right;\n    }\n</style>\n<table border=\"1\" class=\"dataframe\">\n  <thead>\n    <tr style=\"text-align: right;\">\n      <th></th>\n      <th>movieId</th>\n      <th>title</th>\n      <th>genres</th>\n      <th>year</th>\n    </tr>\n  </thead>\n  <tbody>\n    <tr>\n      <th>0</th>\n      <td>1</td>\n      <td>Toy Story</td>\n      <td>Adventure|Animation|Children|Comedy|Fantasy</td>\n      <td>1995</td>\n    </tr>\n    <tr>\n      <th>1</th>\n      <td>2</td>\n      <td>Jumanji</td>\n      <td>Adventure|Children|Fantasy</td>\n      <td>1995</td>\n    </tr>\n    <tr>\n      <th>2</th>\n      <td>3</td>\n      <td>Grumpier Old Men</td>\n      <td>Comedy|Romance</td>\n      <td>1995</td>\n    </tr>\n    <tr>\n      <th>3</th>\n      <td>4</td>\n      <td>Waiting to Exhale</td>\n      <td>Comedy|Drama|Romance</td>\n      <td>1995</td>\n    </tr>\n    <tr>\n      <th>4</th>\n      <td>5</td>\n      <td>Father of the Bride Part II</td>\n      <td>Comedy</td>\n      <td>1995</td>\n    </tr>\n  </tbody>\n</table>\n</div>"
     },
     "metadata": {},
     "execution_count": 264
    }
   ],
   "source": [
    "#Start preproccessing and changing the dataframe to fit the program's specifications\n",
    "moviesDataFrame['year'] = moviesDataFrame.title.str.extract('(\\(\\d\\d\\d\\d\\))',expand=False)\n",
    "moviesDataFrame['year'] = moviesDataFrame.year.str.extract('(\\d\\d\\d\\d)',expand=False)\n",
    "moviesDataFrame['title'] = moviesDataFrame.title.str.replace('(\\(\\d\\d\\d\\d\\))', '')\n",
    "moviesDataFrame['title'] = moviesDataFrame['title'].apply(lambda x: x.strip())\n",
    "moviesDataFrame.head()\n",
    "#Removed year from title and made into a separate coulumn"
   ]
  },
  {
   "cell_type": "code",
   "execution_count": 265,
   "metadata": {},
   "outputs": [
    {
     "output_type": "execute_result",
     "data": {
      "text/plain": [
       "   movieId                        title  \\\n",
       "0        1                    Toy Story   \n",
       "1        2                      Jumanji   \n",
       "2        3             Grumpier Old Men   \n",
       "3        4            Waiting to Exhale   \n",
       "4        5  Father of the Bride Part II   \n",
       "\n",
       "                                              genres  year  \n",
       "0  [Adventure, Animation, Children, Comedy, Fantasy]  1995  \n",
       "1                     [Adventure, Children, Fantasy]  1995  \n",
       "2                                  [Comedy, Romance]  1995  \n",
       "3                           [Comedy, Drama, Romance]  1995  \n",
       "4                                           [Comedy]  1995  "
      ],
      "text/html": "<div>\n<style scoped>\n    .dataframe tbody tr th:only-of-type {\n        vertical-align: middle;\n    }\n\n    .dataframe tbody tr th {\n        vertical-align: top;\n    }\n\n    .dataframe thead th {\n        text-align: right;\n    }\n</style>\n<table border=\"1\" class=\"dataframe\">\n  <thead>\n    <tr style=\"text-align: right;\">\n      <th></th>\n      <th>movieId</th>\n      <th>title</th>\n      <th>genres</th>\n      <th>year</th>\n    </tr>\n  </thead>\n  <tbody>\n    <tr>\n      <th>0</th>\n      <td>1</td>\n      <td>Toy Story</td>\n      <td>[Adventure, Animation, Children, Comedy, Fantasy]</td>\n      <td>1995</td>\n    </tr>\n    <tr>\n      <th>1</th>\n      <td>2</td>\n      <td>Jumanji</td>\n      <td>[Adventure, Children, Fantasy]</td>\n      <td>1995</td>\n    </tr>\n    <tr>\n      <th>2</th>\n      <td>3</td>\n      <td>Grumpier Old Men</td>\n      <td>[Comedy, Romance]</td>\n      <td>1995</td>\n    </tr>\n    <tr>\n      <th>3</th>\n      <td>4</td>\n      <td>Waiting to Exhale</td>\n      <td>[Comedy, Drama, Romance]</td>\n      <td>1995</td>\n    </tr>\n    <tr>\n      <th>4</th>\n      <td>5</td>\n      <td>Father of the Bride Part II</td>\n      <td>[Comedy]</td>\n      <td>1995</td>\n    </tr>\n  </tbody>\n</table>\n</div>"
     },
     "metadata": {},
     "execution_count": 265
    }
   ],
   "source": [
    "#Make the Genres into a list in the dataframe\n",
    "moviesDataFrame[\"genres\"] = moviesDataFrame.genres.str.split('|')\n",
    "moviesDataFrame.head()"
   ]
  },
  {
   "cell_type": "code",
   "execution_count": 266,
   "metadata": {},
   "outputs": [
    {
     "output_type": "execute_result",
     "data": {
      "text/plain": [
       "   movieId                        title  \\\n",
       "0        1                    Toy Story   \n",
       "1        2                      Jumanji   \n",
       "2        3             Grumpier Old Men   \n",
       "3        4            Waiting to Exhale   \n",
       "4        5  Father of the Bride Part II   \n",
       "\n",
       "                                              genres  year  Adventure  \\\n",
       "0  [Adventure, Animation, Children, Comedy, Fantasy]  1995        1.0   \n",
       "1                     [Adventure, Children, Fantasy]  1995        1.0   \n",
       "2                                  [Comedy, Romance]  1995        0.0   \n",
       "3                           [Comedy, Drama, Romance]  1995        0.0   \n",
       "4                                           [Comedy]  1995        0.0   \n",
       "\n",
       "   Animation  Children  Comedy  Fantasy  Romance  ...  Horror  Mystery  \\\n",
       "0        1.0       1.0     1.0      1.0      0.0  ...     0.0      0.0   \n",
       "1        0.0       1.0     0.0      1.0      0.0  ...     0.0      0.0   \n",
       "2        0.0       0.0     1.0      0.0      1.0  ...     0.0      0.0   \n",
       "3        0.0       0.0     1.0      0.0      1.0  ...     0.0      0.0   \n",
       "4        0.0       0.0     1.0      0.0      0.0  ...     0.0      0.0   \n",
       "\n",
       "   Sci-Fi  IMAX  Documentary  War  Musical  Western  Film-Noir  \\\n",
       "0     0.0   0.0          0.0  0.0      0.0      0.0        0.0   \n",
       "1     0.0   0.0          0.0  0.0      0.0      0.0        0.0   \n",
       "2     0.0   0.0          0.0  0.0      0.0      0.0        0.0   \n",
       "3     0.0   0.0          0.0  0.0      0.0      0.0        0.0   \n",
       "4     0.0   0.0          0.0  0.0      0.0      0.0        0.0   \n",
       "\n",
       "   (no genres listed)  \n",
       "0                 0.0  \n",
       "1                 0.0  \n",
       "2                 0.0  \n",
       "3                 0.0  \n",
       "4                 0.0  \n",
       "\n",
       "[5 rows x 24 columns]"
      ],
      "text/html": "<div>\n<style scoped>\n    .dataframe tbody tr th:only-of-type {\n        vertical-align: middle;\n    }\n\n    .dataframe tbody tr th {\n        vertical-align: top;\n    }\n\n    .dataframe thead th {\n        text-align: right;\n    }\n</style>\n<table border=\"1\" class=\"dataframe\">\n  <thead>\n    <tr style=\"text-align: right;\">\n      <th></th>\n      <th>movieId</th>\n      <th>title</th>\n      <th>genres</th>\n      <th>year</th>\n      <th>Adventure</th>\n      <th>Animation</th>\n      <th>Children</th>\n      <th>Comedy</th>\n      <th>Fantasy</th>\n      <th>Romance</th>\n      <th>...</th>\n      <th>Horror</th>\n      <th>Mystery</th>\n      <th>Sci-Fi</th>\n      <th>IMAX</th>\n      <th>Documentary</th>\n      <th>War</th>\n      <th>Musical</th>\n      <th>Western</th>\n      <th>Film-Noir</th>\n      <th>(no genres listed)</th>\n    </tr>\n  </thead>\n  <tbody>\n    <tr>\n      <th>0</th>\n      <td>1</td>\n      <td>Toy Story</td>\n      <td>[Adventure, Animation, Children, Comedy, Fantasy]</td>\n      <td>1995</td>\n      <td>1.0</td>\n      <td>1.0</td>\n      <td>1.0</td>\n      <td>1.0</td>\n      <td>1.0</td>\n      <td>0.0</td>\n      <td>...</td>\n      <td>0.0</td>\n      <td>0.0</td>\n      <td>0.0</td>\n      <td>0.0</td>\n      <td>0.0</td>\n      <td>0.0</td>\n      <td>0.0</td>\n      <td>0.0</td>\n      <td>0.0</td>\n      <td>0.0</td>\n    </tr>\n    <tr>\n      <th>1</th>\n      <td>2</td>\n      <td>Jumanji</td>\n      <td>[Adventure, Children, Fantasy]</td>\n      <td>1995</td>\n      <td>1.0</td>\n      <td>0.0</td>\n      <td>1.0</td>\n      <td>0.0</td>\n      <td>1.0</td>\n      <td>0.0</td>\n      <td>...</td>\n      <td>0.0</td>\n      <td>0.0</td>\n      <td>0.0</td>\n      <td>0.0</td>\n      <td>0.0</td>\n      <td>0.0</td>\n      <td>0.0</td>\n      <td>0.0</td>\n      <td>0.0</td>\n      <td>0.0</td>\n    </tr>\n    <tr>\n      <th>2</th>\n      <td>3</td>\n      <td>Grumpier Old Men</td>\n      <td>[Comedy, Romance]</td>\n      <td>1995</td>\n      <td>0.0</td>\n      <td>0.0</td>\n      <td>0.0</td>\n      <td>1.0</td>\n      <td>0.0</td>\n      <td>1.0</td>\n      <td>...</td>\n      <td>0.0</td>\n      <td>0.0</td>\n      <td>0.0</td>\n      <td>0.0</td>\n      <td>0.0</td>\n      <td>0.0</td>\n      <td>0.0</td>\n      <td>0.0</td>\n      <td>0.0</td>\n      <td>0.0</td>\n    </tr>\n    <tr>\n      <th>3</th>\n      <td>4</td>\n      <td>Waiting to Exhale</td>\n      <td>[Comedy, Drama, Romance]</td>\n      <td>1995</td>\n      <td>0.0</td>\n      <td>0.0</td>\n      <td>0.0</td>\n      <td>1.0</td>\n      <td>0.0</td>\n      <td>1.0</td>\n      <td>...</td>\n      <td>0.0</td>\n      <td>0.0</td>\n      <td>0.0</td>\n      <td>0.0</td>\n      <td>0.0</td>\n      <td>0.0</td>\n      <td>0.0</td>\n      <td>0.0</td>\n      <td>0.0</td>\n      <td>0.0</td>\n    </tr>\n    <tr>\n      <th>4</th>\n      <td>5</td>\n      <td>Father of the Bride Part II</td>\n      <td>[Comedy]</td>\n      <td>1995</td>\n      <td>0.0</td>\n      <td>0.0</td>\n      <td>0.0</td>\n      <td>1.0</td>\n      <td>0.0</td>\n      <td>0.0</td>\n      <td>...</td>\n      <td>0.0</td>\n      <td>0.0</td>\n      <td>0.0</td>\n      <td>0.0</td>\n      <td>0.0</td>\n      <td>0.0</td>\n      <td>0.0</td>\n      <td>0.0</td>\n      <td>0.0</td>\n      <td>0.0</td>\n    </tr>\n  </tbody>\n</table>\n<p>5 rows × 24 columns</p>\n</div>"
     },
     "metadata": {},
     "execution_count": 266
    }
   ],
   "source": [
    "#Start making the dataframe that relates movies to the genres\n",
    "#Find all the genres that apply to each movie with a 1 and those that don't with a 0\n",
    "moviesGenresDataFrame = moviesDataFrame.copy()\n",
    "\n",
    "for i, r in moviesDataFrame.iterrows():\n",
    "    for g in r[\"genres\"]:\n",
    "        moviesGenresDataFrame.at[i, g] = 1\n",
    "\n",
    "moviesGenresDataFrame = moviesGenresDataFrame.fillna(0)\n",
    "moviesGenresDataFrame.head()\n"
   ]
  },
  {
   "cell_type": "code",
   "execution_count": 267,
   "metadata": {},
   "outputs": [
    {
     "output_type": "execute_result",
     "data": {
      "text/plain": [
       "   userId  movieId  rating\n",
       "0       1      169     2.5\n",
       "1       1     2471     3.0\n",
       "2       1    48516     5.0\n",
       "3       2     2571     3.5\n",
       "4       2   109487     4.0"
      ],
      "text/html": "<div>\n<style scoped>\n    .dataframe tbody tr th:only-of-type {\n        vertical-align: middle;\n    }\n\n    .dataframe tbody tr th {\n        vertical-align: top;\n    }\n\n    .dataframe thead th {\n        text-align: right;\n    }\n</style>\n<table border=\"1\" class=\"dataframe\">\n  <thead>\n    <tr style=\"text-align: right;\">\n      <th></th>\n      <th>userId</th>\n      <th>movieId</th>\n      <th>rating</th>\n    </tr>\n  </thead>\n  <tbody>\n    <tr>\n      <th>0</th>\n      <td>1</td>\n      <td>169</td>\n      <td>2.5</td>\n    </tr>\n    <tr>\n      <th>1</th>\n      <td>1</td>\n      <td>2471</td>\n      <td>3.0</td>\n    </tr>\n    <tr>\n      <th>2</th>\n      <td>1</td>\n      <td>48516</td>\n      <td>5.0</td>\n    </tr>\n    <tr>\n      <th>3</th>\n      <td>2</td>\n      <td>2571</td>\n      <td>3.5</td>\n    </tr>\n    <tr>\n      <th>4</th>\n      <td>2</td>\n      <td>109487</td>\n      <td>4.0</td>\n    </tr>\n  </tbody>\n</table>\n</div>"
     },
     "metadata": {},
     "execution_count": 267
    }
   ],
   "source": [
    "#Start the second characteristic of movie recommending: ratings\n",
    "ratingsDataFrame.head()\n",
    "#Take out time from the dataframe\n",
    "ratingsDataFrame = ratingsDataFrame.drop(\"timestamp\", 1)\n",
    "ratingsDataFrame.head()"
   ]
  },
  {
   "cell_type": "code",
   "execution_count": 268,
   "metadata": {},
   "outputs": [
    {
     "output_type": "execute_result",
     "data": {
      "text/plain": [
       "   movieId                                        title  rating\n",
       "0        1                                    Toy Story     3.5\n",
       "1        2                                      Jumanji     2.0\n",
       "2    53996                                 Transformers     3.5\n",
       "3    86880  Pirates of the Caribbean: On Stranger Tides     3.3\n",
       "4   109487                                 Interstellar     4.3"
      ],
      "text/html": "<div>\n<style scoped>\n    .dataframe tbody tr th:only-of-type {\n        vertical-align: middle;\n    }\n\n    .dataframe tbody tr th {\n        vertical-align: top;\n    }\n\n    .dataframe thead th {\n        text-align: right;\n    }\n</style>\n<table border=\"1\" class=\"dataframe\">\n  <thead>\n    <tr style=\"text-align: right;\">\n      <th></th>\n      <th>movieId</th>\n      <th>title</th>\n      <th>rating</th>\n    </tr>\n  </thead>\n  <tbody>\n    <tr>\n      <th>0</th>\n      <td>1</td>\n      <td>Toy Story</td>\n      <td>3.5</td>\n    </tr>\n    <tr>\n      <th>1</th>\n      <td>2</td>\n      <td>Jumanji</td>\n      <td>2.0</td>\n    </tr>\n    <tr>\n      <th>2</th>\n      <td>53996</td>\n      <td>Transformers</td>\n      <td>3.5</td>\n    </tr>\n    <tr>\n      <th>3</th>\n      <td>86880</td>\n      <td>Pirates of the Caribbean: On Stranger Tides</td>\n      <td>3.3</td>\n    </tr>\n    <tr>\n      <th>4</th>\n      <td>109487</td>\n      <td>Interstellar</td>\n      <td>4.3</td>\n    </tr>\n  </tbody>\n</table>\n</div>"
     },
     "metadata": {},
     "execution_count": 268
    }
   ],
   "source": [
    "#Take in a user's input of movies that he or she has watched or likes with the ratings of the movies to act as keys\n",
    "#Add as many movies as the user wants\n",
    "userInput = [{'title':'Transformers', 'rating':3.5}, {'title':'Toy Story', 'rating':3.5}, {'title':'Jumanji', 'rating':2}, {'title':\"Pirates of the Caribbean: On Stranger Tides\", 'rating':3.3}, {'title':'Interstellar', 'rating':4.3}]\n",
    "# userInput = [{'title':'Tuxedo, The', 'rating':3.1}, {'title':'Rush Hour 3', 'rating':3.1}, {'title':'Dragon Blade', 'rating':2.5}, {'title':\"Medallion, The\", 'rating':3.5}, {'title':'Shanghai Noon', 'rating':3.3}]\n",
    "\n",
    "#Put the input into a dataframe \n",
    "inputMovies = pd.DataFrame(userInput)\n",
    "\n",
    "#Find movie ID from the movieDataframe that correlates to the User's movies\n",
    "inputId = moviesDataFrame[moviesDataFrame['title'].isin(inputMovies['title'].tolist())]\n",
    "inputMovies = pd.merge(inputId, inputMovies)\n",
    "#Exclude the genres and year from this list\n",
    "inputMovies = inputMovies.drop('genres', 1).drop('year', 1)\n",
    "inputMovies"
   ]
  },
  {
   "cell_type": "code",
   "execution_count": 269,
   "metadata": {},
   "outputs": [
    {
     "output_type": "execute_result",
     "data": {
      "text/plain": [
       "       movieId                                        title  \\\n",
       "0            1                                    Toy Story   \n",
       "1            2                                      Jumanji   \n",
       "11984    53996                                 Transformers   \n",
       "17223    86880  Pirates of the Caribbean: On Stranger Tides   \n",
       "23044   109487                                 Interstellar   \n",
       "\n",
       "                                                  genres  year  Adventure  \\\n",
       "0      [Adventure, Animation, Children, Comedy, Fantasy]  1995        1.0   \n",
       "1                         [Adventure, Children, Fantasy]  1995        1.0   \n",
       "11984                   [Action, Sci-Fi, Thriller, IMAX]  2007        0.0   \n",
       "17223                 [Action, Adventure, Fantasy, IMAX]  2011        1.0   \n",
       "23044                                     [Sci-Fi, IMAX]  2014        0.0   \n",
       "\n",
       "       Animation  Children  Comedy  Fantasy  Romance  ...  Horror  Mystery  \\\n",
       "0            1.0       1.0     1.0      1.0      0.0  ...     0.0      0.0   \n",
       "1            0.0       1.0     0.0      1.0      0.0  ...     0.0      0.0   \n",
       "11984        0.0       0.0     0.0      0.0      0.0  ...     0.0      0.0   \n",
       "17223        0.0       0.0     0.0      1.0      0.0  ...     0.0      0.0   \n",
       "23044        0.0       0.0     0.0      0.0      0.0  ...     0.0      0.0   \n",
       "\n",
       "       Sci-Fi  IMAX  Documentary  War  Musical  Western  Film-Noir  \\\n",
       "0         0.0   0.0          0.0  0.0      0.0      0.0        0.0   \n",
       "1         0.0   0.0          0.0  0.0      0.0      0.0        0.0   \n",
       "11984     1.0   1.0          0.0  0.0      0.0      0.0        0.0   \n",
       "17223     0.0   1.0          0.0  0.0      0.0      0.0        0.0   \n",
       "23044     1.0   1.0          0.0  0.0      0.0      0.0        0.0   \n",
       "\n",
       "       (no genres listed)  \n",
       "0                     0.0  \n",
       "1                     0.0  \n",
       "11984                 0.0  \n",
       "17223                 0.0  \n",
       "23044                 0.0  \n",
       "\n",
       "[5 rows x 24 columns]"
      ],
      "text/html": "<div>\n<style scoped>\n    .dataframe tbody tr th:only-of-type {\n        vertical-align: middle;\n    }\n\n    .dataframe tbody tr th {\n        vertical-align: top;\n    }\n\n    .dataframe thead th {\n        text-align: right;\n    }\n</style>\n<table border=\"1\" class=\"dataframe\">\n  <thead>\n    <tr style=\"text-align: right;\">\n      <th></th>\n      <th>movieId</th>\n      <th>title</th>\n      <th>genres</th>\n      <th>year</th>\n      <th>Adventure</th>\n      <th>Animation</th>\n      <th>Children</th>\n      <th>Comedy</th>\n      <th>Fantasy</th>\n      <th>Romance</th>\n      <th>...</th>\n      <th>Horror</th>\n      <th>Mystery</th>\n      <th>Sci-Fi</th>\n      <th>IMAX</th>\n      <th>Documentary</th>\n      <th>War</th>\n      <th>Musical</th>\n      <th>Western</th>\n      <th>Film-Noir</th>\n      <th>(no genres listed)</th>\n    </tr>\n  </thead>\n  <tbody>\n    <tr>\n      <th>0</th>\n      <td>1</td>\n      <td>Toy Story</td>\n      <td>[Adventure, Animation, Children, Comedy, Fantasy]</td>\n      <td>1995</td>\n      <td>1.0</td>\n      <td>1.0</td>\n      <td>1.0</td>\n      <td>1.0</td>\n      <td>1.0</td>\n      <td>0.0</td>\n      <td>...</td>\n      <td>0.0</td>\n      <td>0.0</td>\n      <td>0.0</td>\n      <td>0.0</td>\n      <td>0.0</td>\n      <td>0.0</td>\n      <td>0.0</td>\n      <td>0.0</td>\n      <td>0.0</td>\n      <td>0.0</td>\n    </tr>\n    <tr>\n      <th>1</th>\n      <td>2</td>\n      <td>Jumanji</td>\n      <td>[Adventure, Children, Fantasy]</td>\n      <td>1995</td>\n      <td>1.0</td>\n      <td>0.0</td>\n      <td>1.0</td>\n      <td>0.0</td>\n      <td>1.0</td>\n      <td>0.0</td>\n      <td>...</td>\n      <td>0.0</td>\n      <td>0.0</td>\n      <td>0.0</td>\n      <td>0.0</td>\n      <td>0.0</td>\n      <td>0.0</td>\n      <td>0.0</td>\n      <td>0.0</td>\n      <td>0.0</td>\n      <td>0.0</td>\n    </tr>\n    <tr>\n      <th>11984</th>\n      <td>53996</td>\n      <td>Transformers</td>\n      <td>[Action, Sci-Fi, Thriller, IMAX]</td>\n      <td>2007</td>\n      <td>0.0</td>\n      <td>0.0</td>\n      <td>0.0</td>\n      <td>0.0</td>\n      <td>0.0</td>\n      <td>0.0</td>\n      <td>...</td>\n      <td>0.0</td>\n      <td>0.0</td>\n      <td>1.0</td>\n      <td>1.0</td>\n      <td>0.0</td>\n      <td>0.0</td>\n      <td>0.0</td>\n      <td>0.0</td>\n      <td>0.0</td>\n      <td>0.0</td>\n    </tr>\n    <tr>\n      <th>17223</th>\n      <td>86880</td>\n      <td>Pirates of the Caribbean: On Stranger Tides</td>\n      <td>[Action, Adventure, Fantasy, IMAX]</td>\n      <td>2011</td>\n      <td>1.0</td>\n      <td>0.0</td>\n      <td>0.0</td>\n      <td>0.0</td>\n      <td>1.0</td>\n      <td>0.0</td>\n      <td>...</td>\n      <td>0.0</td>\n      <td>0.0</td>\n      <td>0.0</td>\n      <td>1.0</td>\n      <td>0.0</td>\n      <td>0.0</td>\n      <td>0.0</td>\n      <td>0.0</td>\n      <td>0.0</td>\n      <td>0.0</td>\n    </tr>\n    <tr>\n      <th>23044</th>\n      <td>109487</td>\n      <td>Interstellar</td>\n      <td>[Sci-Fi, IMAX]</td>\n      <td>2014</td>\n      <td>0.0</td>\n      <td>0.0</td>\n      <td>0.0</td>\n      <td>0.0</td>\n      <td>0.0</td>\n      <td>0.0</td>\n      <td>...</td>\n      <td>0.0</td>\n      <td>0.0</td>\n      <td>1.0</td>\n      <td>1.0</td>\n      <td>0.0</td>\n      <td>0.0</td>\n      <td>0.0</td>\n      <td>0.0</td>\n      <td>0.0</td>\n      <td>0.0</td>\n    </tr>\n  </tbody>\n</table>\n<p>5 rows × 24 columns</p>\n</div>"
     },
     "metadata": {},
     "execution_count": 269
    }
   ],
   "source": [
    "#Begin creating the transition matrix which will include a combination of ratings and genres for the movies \n",
    "\n",
    "#Start with genres\n",
    "moviesUserDataFrame = moviesGenresDataFrame[moviesGenresDataFrame[\"movieId\"].isin(inputMovies[\"movieId\"].tolist())]\n",
    "moviesUserDataFrame\n"
   ]
  },
  {
   "cell_type": "code",
   "execution_count": 270,
   "metadata": {},
   "outputs": [
    {
     "output_type": "execute_result",
     "data": {
      "text/plain": [
       "   Adventure  Animation  Children  Comedy  Fantasy  Romance  Drama  Action  \\\n",
       "0        1.0        1.0       1.0     1.0      1.0      0.0    0.0     0.0   \n",
       "1        1.0        0.0       1.0     0.0      1.0      0.0    0.0     0.0   \n",
       "2        0.0        0.0       0.0     0.0      0.0      0.0    0.0     1.0   \n",
       "3        1.0        0.0       0.0     0.0      1.0      0.0    0.0     1.0   \n",
       "4        0.0        0.0       0.0     0.0      0.0      0.0    0.0     0.0   \n",
       "\n",
       "   Crime  Thriller  Horror  Mystery  Sci-Fi  IMAX  Documentary  War  Musical  \\\n",
       "0    0.0       0.0     0.0      0.0     0.0   0.0          0.0  0.0      0.0   \n",
       "1    0.0       0.0     0.0      0.0     0.0   0.0          0.0  0.0      0.0   \n",
       "2    0.0       1.0     0.0      0.0     1.0   1.0          0.0  0.0      0.0   \n",
       "3    0.0       0.0     0.0      0.0     0.0   1.0          0.0  0.0      0.0   \n",
       "4    0.0       0.0     0.0      0.0     1.0   1.0          0.0  0.0      0.0   \n",
       "\n",
       "   Western  Film-Noir  (no genres listed)  \n",
       "0      0.0        0.0                 0.0  \n",
       "1      0.0        0.0                 0.0  \n",
       "2      0.0        0.0                 0.0  \n",
       "3      0.0        0.0                 0.0  \n",
       "4      0.0        0.0                 0.0  "
      ],
      "text/html": "<div>\n<style scoped>\n    .dataframe tbody tr th:only-of-type {\n        vertical-align: middle;\n    }\n\n    .dataframe tbody tr th {\n        vertical-align: top;\n    }\n\n    .dataframe thead th {\n        text-align: right;\n    }\n</style>\n<table border=\"1\" class=\"dataframe\">\n  <thead>\n    <tr style=\"text-align: right;\">\n      <th></th>\n      <th>Adventure</th>\n      <th>Animation</th>\n      <th>Children</th>\n      <th>Comedy</th>\n      <th>Fantasy</th>\n      <th>Romance</th>\n      <th>Drama</th>\n      <th>Action</th>\n      <th>Crime</th>\n      <th>Thriller</th>\n      <th>Horror</th>\n      <th>Mystery</th>\n      <th>Sci-Fi</th>\n      <th>IMAX</th>\n      <th>Documentary</th>\n      <th>War</th>\n      <th>Musical</th>\n      <th>Western</th>\n      <th>Film-Noir</th>\n      <th>(no genres listed)</th>\n    </tr>\n  </thead>\n  <tbody>\n    <tr>\n      <th>0</th>\n      <td>1.0</td>\n      <td>1.0</td>\n      <td>1.0</td>\n      <td>1.0</td>\n      <td>1.0</td>\n      <td>0.0</td>\n      <td>0.0</td>\n      <td>0.0</td>\n      <td>0.0</td>\n      <td>0.0</td>\n      <td>0.0</td>\n      <td>0.0</td>\n      <td>0.0</td>\n      <td>0.0</td>\n      <td>0.0</td>\n      <td>0.0</td>\n      <td>0.0</td>\n      <td>0.0</td>\n      <td>0.0</td>\n      <td>0.0</td>\n    </tr>\n    <tr>\n      <th>1</th>\n      <td>1.0</td>\n      <td>0.0</td>\n      <td>1.0</td>\n      <td>0.0</td>\n      <td>1.0</td>\n      <td>0.0</td>\n      <td>0.0</td>\n      <td>0.0</td>\n      <td>0.0</td>\n      <td>0.0</td>\n      <td>0.0</td>\n      <td>0.0</td>\n      <td>0.0</td>\n      <td>0.0</td>\n      <td>0.0</td>\n      <td>0.0</td>\n      <td>0.0</td>\n      <td>0.0</td>\n      <td>0.0</td>\n      <td>0.0</td>\n    </tr>\n    <tr>\n      <th>2</th>\n      <td>0.0</td>\n      <td>0.0</td>\n      <td>0.0</td>\n      <td>0.0</td>\n      <td>0.0</td>\n      <td>0.0</td>\n      <td>0.0</td>\n      <td>1.0</td>\n      <td>0.0</td>\n      <td>1.0</td>\n      <td>0.0</td>\n      <td>0.0</td>\n      <td>1.0</td>\n      <td>1.0</td>\n      <td>0.0</td>\n      <td>0.0</td>\n      <td>0.0</td>\n      <td>0.0</td>\n      <td>0.0</td>\n      <td>0.0</td>\n    </tr>\n    <tr>\n      <th>3</th>\n      <td>1.0</td>\n      <td>0.0</td>\n      <td>0.0</td>\n      <td>0.0</td>\n      <td>1.0</td>\n      <td>0.0</td>\n      <td>0.0</td>\n      <td>1.0</td>\n      <td>0.0</td>\n      <td>0.0</td>\n      <td>0.0</td>\n      <td>0.0</td>\n      <td>0.0</td>\n      <td>1.0</td>\n      <td>0.0</td>\n      <td>0.0</td>\n      <td>0.0</td>\n      <td>0.0</td>\n      <td>0.0</td>\n      <td>0.0</td>\n    </tr>\n    <tr>\n      <th>4</th>\n      <td>0.0</td>\n      <td>0.0</td>\n      <td>0.0</td>\n      <td>0.0</td>\n      <td>0.0</td>\n      <td>0.0</td>\n      <td>0.0</td>\n      <td>0.0</td>\n      <td>0.0</td>\n      <td>0.0</td>\n      <td>0.0</td>\n      <td>0.0</td>\n      <td>1.0</td>\n      <td>1.0</td>\n      <td>0.0</td>\n      <td>0.0</td>\n      <td>0.0</td>\n      <td>0.0</td>\n      <td>0.0</td>\n      <td>0.0</td>\n    </tr>\n  </tbody>\n</table>\n</div>"
     },
     "metadata": {},
     "execution_count": 270
    }
   ],
   "source": [
    "#Clean up to only include the genres for the movies\n",
    "moviesUserDataFrame = moviesUserDataFrame.reset_index(drop=True)\n",
    "genreUserDataFrame = moviesUserDataFrame.drop(\"movieId\", 1).drop(\"title\", 1).drop(\"genres\", 1).drop(\"year\", 1)\n",
    "genreUserDataFrame"
   ]
  },
  {
   "cell_type": "code",
   "execution_count": 271,
   "metadata": {},
   "outputs": [
    {
     "output_type": "execute_result",
     "data": {
      "text/plain": [
       "Adventure              8.8\n",
       "Animation              3.5\n",
       "Children               5.5\n",
       "Comedy                 3.5\n",
       "Fantasy                8.8\n",
       "Romance                0.0\n",
       "Drama                  0.0\n",
       "Action                 6.8\n",
       "Crime                  0.0\n",
       "Thriller               3.5\n",
       "Horror                 0.0\n",
       "Mystery                0.0\n",
       "Sci-Fi                 7.8\n",
       "IMAX                  11.1\n",
       "Documentary            0.0\n",
       "War                    0.0\n",
       "Musical                0.0\n",
       "Western                0.0\n",
       "Film-Noir              0.0\n",
       "(no genres listed)     0.0\n",
       "dtype: float64"
      ]
     },
     "metadata": {},
     "execution_count": 271
    }
   ],
   "source": [
    "#Start \"learning\" about the user by combining the ratings and genre values above\n",
    "profileUserDataFrame = genreUserDataFrame.transpose().dot(inputMovies[\"rating\"])\n",
    "profileUserDataFrame\n",
    "#This is the combination of genre/ratings calcuated from the input matrix. It will be used with the transition matrix to create a recommendation"
   ]
  },
  {
   "cell_type": "code",
   "execution_count": 272,
   "metadata": {},
   "outputs": [
    {
     "output_type": "execute_result",
     "data": {
      "text/plain": [
       "         Adventure  Animation  Children  Comedy  Fantasy  Romance  Drama  \\\n",
       "movieId                                                                    \n",
       "1              1.0        1.0       1.0     1.0      1.0      0.0    0.0   \n",
       "2              1.0        0.0       1.0     0.0      1.0      0.0    0.0   \n",
       "3              0.0        0.0       0.0     1.0      0.0      1.0    0.0   \n",
       "4              0.0        0.0       0.0     1.0      0.0      1.0    1.0   \n",
       "5              0.0        0.0       0.0     1.0      0.0      0.0    0.0   \n",
       "\n",
       "         Action  Crime  Thriller  Horror  Mystery  Sci-Fi  IMAX  Documentary  \\\n",
       "movieId                                                                        \n",
       "1           0.0    0.0       0.0     0.0      0.0     0.0   0.0          0.0   \n",
       "2           0.0    0.0       0.0     0.0      0.0     0.0   0.0          0.0   \n",
       "3           0.0    0.0       0.0     0.0      0.0     0.0   0.0          0.0   \n",
       "4           0.0    0.0       0.0     0.0      0.0     0.0   0.0          0.0   \n",
       "5           0.0    0.0       0.0     0.0      0.0     0.0   0.0          0.0   \n",
       "\n",
       "         War  Musical  Western  Film-Noir  (no genres listed)  \n",
       "movieId                                                        \n",
       "1        0.0      0.0      0.0        0.0                 0.0  \n",
       "2        0.0      0.0      0.0        0.0                 0.0  \n",
       "3        0.0      0.0      0.0        0.0                 0.0  \n",
       "4        0.0      0.0      0.0        0.0                 0.0  \n",
       "5        0.0      0.0      0.0        0.0                 0.0  "
      ],
      "text/html": "<div>\n<style scoped>\n    .dataframe tbody tr th:only-of-type {\n        vertical-align: middle;\n    }\n\n    .dataframe tbody tr th {\n        vertical-align: top;\n    }\n\n    .dataframe thead th {\n        text-align: right;\n    }\n</style>\n<table border=\"1\" class=\"dataframe\">\n  <thead>\n    <tr style=\"text-align: right;\">\n      <th></th>\n      <th>Adventure</th>\n      <th>Animation</th>\n      <th>Children</th>\n      <th>Comedy</th>\n      <th>Fantasy</th>\n      <th>Romance</th>\n      <th>Drama</th>\n      <th>Action</th>\n      <th>Crime</th>\n      <th>Thriller</th>\n      <th>Horror</th>\n      <th>Mystery</th>\n      <th>Sci-Fi</th>\n      <th>IMAX</th>\n      <th>Documentary</th>\n      <th>War</th>\n      <th>Musical</th>\n      <th>Western</th>\n      <th>Film-Noir</th>\n      <th>(no genres listed)</th>\n    </tr>\n    <tr>\n      <th>movieId</th>\n      <th></th>\n      <th></th>\n      <th></th>\n      <th></th>\n      <th></th>\n      <th></th>\n      <th></th>\n      <th></th>\n      <th></th>\n      <th></th>\n      <th></th>\n      <th></th>\n      <th></th>\n      <th></th>\n      <th></th>\n      <th></th>\n      <th></th>\n      <th></th>\n      <th></th>\n      <th></th>\n    </tr>\n  </thead>\n  <tbody>\n    <tr>\n      <th>1</th>\n      <td>1.0</td>\n      <td>1.0</td>\n      <td>1.0</td>\n      <td>1.0</td>\n      <td>1.0</td>\n      <td>0.0</td>\n      <td>0.0</td>\n      <td>0.0</td>\n      <td>0.0</td>\n      <td>0.0</td>\n      <td>0.0</td>\n      <td>0.0</td>\n      <td>0.0</td>\n      <td>0.0</td>\n      <td>0.0</td>\n      <td>0.0</td>\n      <td>0.0</td>\n      <td>0.0</td>\n      <td>0.0</td>\n      <td>0.0</td>\n    </tr>\n    <tr>\n      <th>2</th>\n      <td>1.0</td>\n      <td>0.0</td>\n      <td>1.0</td>\n      <td>0.0</td>\n      <td>1.0</td>\n      <td>0.0</td>\n      <td>0.0</td>\n      <td>0.0</td>\n      <td>0.0</td>\n      <td>0.0</td>\n      <td>0.0</td>\n      <td>0.0</td>\n      <td>0.0</td>\n      <td>0.0</td>\n      <td>0.0</td>\n      <td>0.0</td>\n      <td>0.0</td>\n      <td>0.0</td>\n      <td>0.0</td>\n      <td>0.0</td>\n    </tr>\n    <tr>\n      <th>3</th>\n      <td>0.0</td>\n      <td>0.0</td>\n      <td>0.0</td>\n      <td>1.0</td>\n      <td>0.0</td>\n      <td>1.0</td>\n      <td>0.0</td>\n      <td>0.0</td>\n      <td>0.0</td>\n      <td>0.0</td>\n      <td>0.0</td>\n      <td>0.0</td>\n      <td>0.0</td>\n      <td>0.0</td>\n      <td>0.0</td>\n      <td>0.0</td>\n      <td>0.0</td>\n      <td>0.0</td>\n      <td>0.0</td>\n      <td>0.0</td>\n    </tr>\n    <tr>\n      <th>4</th>\n      <td>0.0</td>\n      <td>0.0</td>\n      <td>0.0</td>\n      <td>1.0</td>\n      <td>0.0</td>\n      <td>1.0</td>\n      <td>1.0</td>\n      <td>0.0</td>\n      <td>0.0</td>\n      <td>0.0</td>\n      <td>0.0</td>\n      <td>0.0</td>\n      <td>0.0</td>\n      <td>0.0</td>\n      <td>0.0</td>\n      <td>0.0</td>\n      <td>0.0</td>\n      <td>0.0</td>\n      <td>0.0</td>\n      <td>0.0</td>\n    </tr>\n    <tr>\n      <th>5</th>\n      <td>0.0</td>\n      <td>0.0</td>\n      <td>0.0</td>\n      <td>1.0</td>\n      <td>0.0</td>\n      <td>0.0</td>\n      <td>0.0</td>\n      <td>0.0</td>\n      <td>0.0</td>\n      <td>0.0</td>\n      <td>0.0</td>\n      <td>0.0</td>\n      <td>0.0</td>\n      <td>0.0</td>\n      <td>0.0</td>\n      <td>0.0</td>\n      <td>0.0</td>\n      <td>0.0</td>\n      <td>0.0</td>\n      <td>0.0</td>\n    </tr>\n  </tbody>\n</table>\n</div>"
     },
     "metadata": {},
     "execution_count": 272
    }
   ],
   "source": [
    "#Begin to create transition matrix \n",
    "\n",
    "#Create genre quantitative table from the MovieLens entire dataset\n",
    "genreTableDataFrame = moviesGenresDataFrame.set_index(moviesGenresDataFrame[\"movieId\"])\n",
    "genreTableDataFrame = genreTableDataFrame.drop(\"movieId\", 1).drop(\"title\", 1).drop(\"genres\", 1).drop(\"year\", 1)\n",
    "genreTableDataFrame.head()"
   ]
  },
  {
   "cell_type": "code",
   "execution_count": 273,
   "metadata": {},
   "outputs": [
    {
     "output_type": "execute_result",
     "data": {
      "text/plain": [
       "movieId\n",
       "1    0.507589\n",
       "2    0.389545\n",
       "3    0.059022\n",
       "4    0.059022\n",
       "5    0.059022\n",
       "dtype: float64"
      ]
     },
     "metadata": {},
     "execution_count": 273
    }
   ],
   "source": [
    "#Start the recommendation by multiplying the table above with the profile and then take the weighted average\n",
    "recommendationDataFrame = ((genreTableDataFrame*profileUserDataFrame).sum(axis=1))/(profileUserDataFrame.sum())\n",
    "recommendationDataFrame.head()"
   ]
  },
  {
   "cell_type": "code",
   "execution_count": 274,
   "metadata": {},
   "outputs": [
    {
     "output_type": "execute_result",
     "data": {
      "text/plain": [
       "movieId\n",
       "32031     0.826307\n",
       "85261     0.792580\n",
       "103042    0.730185\n",
       "54278     0.694772\n",
       "47124     0.694772\n",
       "dtype: float64"
      ]
     },
     "metadata": {},
     "execution_count": 274
    }
   ],
   "source": [
    "#Begin to clean the recommendations by sorting them from highest to lowest\n",
    "recommendationDataFrame = recommendationDataFrame.sort_values(ascending=False)\n",
    "recommendationDataFrame.head()"
   ]
  },
  {
   "cell_type": "code",
   "execution_count": 275,
   "metadata": {},
   "outputs": [
    {
     "output_type": "execute_result",
     "data": {
      "text/plain": [
       "       movieId                                              title  \\\n",
       "542        546                                  Super Mario Bros.   \n",
       "664        673                                          Space Jam   \n",
       "4686      4781                          Megiddo: The Omega Code 2   \n",
       "5784      5882                                    Treasure Planet   \n",
       "6252      6350  Laputa: Castle in the Sky (Tenkû no shiro Rapy...   \n",
       "6261      6365                               Matrix Reloaded, The   \n",
       "6823      6934                            Matrix Revolutions, The   \n",
       "8283      8965                                 Polar Express, The   \n",
       "8783     26340  Twelve Tasks of Asterix, The (Les douze travau...   \n",
       "8942     26590                                G.I. Joe: The Movie   \n",
       "9218     27155                         Batman/Superman Movie, The   \n",
       "9400     27608                     Immortel (ad vitam) (Immortal)   \n",
       "9588     30793                  Charlie and the Chocolate Factory   \n",
       "9825     32031                                             Robots   \n",
       "10575    40339                                     Chicken Little   \n",
       "11197    47124                                     Ant Bully, The   \n",
       "11716    51632                            Atlantis: Milo's Return   \n",
       "11751    51939                TMNT (Teenage Mutant Ninja Turtles)   \n",
       "11785    52287                                 Meet the Robinsons   \n",
       "11806    52462  Aqua Teen Hunger Force Colon Movie Film for Th...   \n",
       "11838    52722                                       Spider-Man 3   \n",
       "12021    54278                                           Underdog   \n",
       "12246    55995                                            Beowulf   \n",
       "12520    58404                   Justice League: The New Frontier   \n",
       "13109    62956                            Futurama: Bender's Game   \n",
       "13113    62999                        Madagascar: Escape 2 Africa   \n",
       "14196    71129                        Green Lantern: First Flight   \n",
       "15057    76093                           How to Train Your Dragon   \n",
       "15230    77561                                         Iron Man 2   \n",
       "15429    78499                                        Toy Story 3   \n",
       "15453    78637  Shrek Forever After (a.k.a. Shrek: The Final C...   \n",
       "15783    80083  Dragon Ball Z: Dead Zone (Doragon bôru Z 1: Or...   \n",
       "16150    81564                                           Megamind   \n",
       "16884    85261                                    Mars Needs Moms   \n",
       "17313    87222                                    Kung Fu Panda 2   \n",
       "18143    90647                                      Puss in Boots   \n",
       "18662    92681                   Journey 2: The Mysterious Island   \n",
       "19963    98243                              Rise of the Guardians   \n",
       "20681   101076                              G.I. Joe: Retaliation   \n",
       "21210   103042                                       Man of Steel   \n",
       "21403   103651                                       Tai Chi Hero   \n",
       "21407   103659             Justice League: The Flashpoint Paradox   \n",
       "22145   106240                                         Free Birds   \n",
       "22760   108501                                Justice League: War   \n",
       "22881   108932                                     The Lego Movie   \n",
       "25915   120833                                       Super Capers   \n",
       "28220   130520                                               Home   \n",
       "29873   136000                 Journey to the Center of the Earth   \n",
       "30066   136618  Pokémon the Movie: Genesect and the Legend Awa...   \n",
       "32313   144350                                 Under the Mountain   \n",
       "\n",
       "                                                  genres  year  \n",
       "542    [Action, Adventure, Children, Comedy, Fantasy,...  1993  \n",
       "664    [Adventure, Animation, Children, Comedy, Fanta...  1996  \n",
       "4686      [Action, Adventure, Fantasy, Sci-Fi, Thriller]  2001  \n",
       "5784      [Adventure, Animation, Children, Sci-Fi, IMAX]  2002  \n",
       "6252   [Action, Adventure, Animation, Children, Fanta...  1986  \n",
       "6261         [Action, Adventure, Sci-Fi, Thriller, IMAX]  2003  \n",
       "6823         [Action, Adventure, Sci-Fi, Thriller, IMAX]  2003  \n",
       "8283     [Adventure, Animation, Children, Fantasy, IMAX]  2004  \n",
       "8783   [Action, Adventure, Animation, Children, Comed...  1976  \n",
       "8942   [Action, Adventure, Animation, Children, Fanta...  1987  \n",
       "9218   [Action, Adventure, Animation, Children, Fanta...  1998  \n",
       "9400     [Action, Adventure, Animation, Fantasy, Sci-Fi]  2004  \n",
       "9588        [Adventure, Children, Comedy, Fantasy, IMAX]  2005  \n",
       "9825   [Adventure, Animation, Children, Comedy, Fanta...  2005  \n",
       "10575  [Action, Adventure, Animation, Children, Comed...  2005  \n",
       "11197  [Adventure, Animation, Children, Comedy, Fanta...  2006  \n",
       "11716  [Action, Adventure, Animation, Children, Comed...  2003  \n",
       "11751  [Action, Adventure, Animation, Children, Comed...  2007  \n",
       "11785  [Action, Adventure, Animation, Children, Comed...  2007  \n",
       "11806  [Action, Adventure, Animation, Comedy, Fantasy...  2007  \n",
       "11838        [Action, Adventure, Sci-Fi, Thriller, IMAX]  2007  \n",
       "12021  [Action, Adventure, Children, Comedy, Fantasy,...  2007  \n",
       "12246      [Action, Adventure, Animation, Fantasy, IMAX]  2007  \n",
       "12520    [Action, Adventure, Animation, Fantasy, Sci-Fi]  2008  \n",
       "13109  [Action, Adventure, Animation, Comedy, Fantasy...  2008  \n",
       "13113  [Action, Adventure, Animation, Children, Comed...  2008  \n",
       "14196    [Action, Adventure, Animation, Fantasy, Sci-Fi]  2009  \n",
       "15057    [Adventure, Animation, Children, Fantasy, IMAX]  2010  \n",
       "15230        [Action, Adventure, Sci-Fi, Thriller, IMAX]  2010  \n",
       "15429  [Adventure, Animation, Children, Comedy, Fanta...  2010  \n",
       "15453  [Adventure, Animation, Children, Comedy, Fanta...  2010  \n",
       "15783    [Action, Adventure, Animation, Fantasy, Sci-Fi]  1989  \n",
       "16150  [Action, Animation, Children, Comedy, Sci-Fi, ...  2010  \n",
       "16884  [Action, Adventure, Animation, Children, Comed...  2011  \n",
       "17313  [Action, Adventure, Animation, Children, Comed...  2011  \n",
       "18143      [Adventure, Animation, Comedy, Fantasy, IMAX]  2011  \n",
       "18662          [Action, Adventure, Comedy, Sci-Fi, IMAX]  2012  \n",
       "19963    [Adventure, Animation, Children, Fantasy, IMAX]  2012  \n",
       "20681        [Action, Adventure, Sci-Fi, Thriller, IMAX]  2013  \n",
       "21210         [Action, Adventure, Fantasy, Sci-Fi, IMAX]  2013  \n",
       "21403     [Action, Comedy, Drama, Fantasy, Sci-Fi, IMAX]  2012  \n",
       "21407    [Action, Adventure, Animation, Fantasy, Sci-Fi]  2013  \n",
       "22145  [Action, Adventure, Animation, Children, Comed...  2013  \n",
       "22760    [Action, Adventure, Animation, Fantasy, Sci-Fi]  2014  \n",
       "22881  [Action, Adventure, Animation, Children, Comed...  2014  \n",
       "25915       [Action, Adventure, Comedy, Fantasy, Sci-Fi]  2009  \n",
       "28220  [Adventure, Animation, Children, Comedy, Fanta...  2015  \n",
       "29873     [Action, Adventure, Children, Fantasy, Sci-Fi]  1999  \n",
       "30066  [Action, Adventure, Animation, Children, Fanta...  2013  \n",
       "32313  [Action, Adventure, Children, Drama, Fantasy, ...  2009  "
      ],
      "text/html": "<div>\n<style scoped>\n    .dataframe tbody tr th:only-of-type {\n        vertical-align: middle;\n    }\n\n    .dataframe tbody tr th {\n        vertical-align: top;\n    }\n\n    .dataframe thead th {\n        text-align: right;\n    }\n</style>\n<table border=\"1\" class=\"dataframe\">\n  <thead>\n    <tr style=\"text-align: right;\">\n      <th></th>\n      <th>movieId</th>\n      <th>title</th>\n      <th>genres</th>\n      <th>year</th>\n    </tr>\n  </thead>\n  <tbody>\n    <tr>\n      <th>542</th>\n      <td>546</td>\n      <td>Super Mario Bros.</td>\n      <td>[Action, Adventure, Children, Comedy, Fantasy,...</td>\n      <td>1993</td>\n    </tr>\n    <tr>\n      <th>664</th>\n      <td>673</td>\n      <td>Space Jam</td>\n      <td>[Adventure, Animation, Children, Comedy, Fanta...</td>\n      <td>1996</td>\n    </tr>\n    <tr>\n      <th>4686</th>\n      <td>4781</td>\n      <td>Megiddo: The Omega Code 2</td>\n      <td>[Action, Adventure, Fantasy, Sci-Fi, Thriller]</td>\n      <td>2001</td>\n    </tr>\n    <tr>\n      <th>5784</th>\n      <td>5882</td>\n      <td>Treasure Planet</td>\n      <td>[Adventure, Animation, Children, Sci-Fi, IMAX]</td>\n      <td>2002</td>\n    </tr>\n    <tr>\n      <th>6252</th>\n      <td>6350</td>\n      <td>Laputa: Castle in the Sky (Tenkû no shiro Rapy...</td>\n      <td>[Action, Adventure, Animation, Children, Fanta...</td>\n      <td>1986</td>\n    </tr>\n    <tr>\n      <th>6261</th>\n      <td>6365</td>\n      <td>Matrix Reloaded, The</td>\n      <td>[Action, Adventure, Sci-Fi, Thriller, IMAX]</td>\n      <td>2003</td>\n    </tr>\n    <tr>\n      <th>6823</th>\n      <td>6934</td>\n      <td>Matrix Revolutions, The</td>\n      <td>[Action, Adventure, Sci-Fi, Thriller, IMAX]</td>\n      <td>2003</td>\n    </tr>\n    <tr>\n      <th>8283</th>\n      <td>8965</td>\n      <td>Polar Express, The</td>\n      <td>[Adventure, Animation, Children, Fantasy, IMAX]</td>\n      <td>2004</td>\n    </tr>\n    <tr>\n      <th>8783</th>\n      <td>26340</td>\n      <td>Twelve Tasks of Asterix, The (Les douze travau...</td>\n      <td>[Action, Adventure, Animation, Children, Comed...</td>\n      <td>1976</td>\n    </tr>\n    <tr>\n      <th>8942</th>\n      <td>26590</td>\n      <td>G.I. Joe: The Movie</td>\n      <td>[Action, Adventure, Animation, Children, Fanta...</td>\n      <td>1987</td>\n    </tr>\n    <tr>\n      <th>9218</th>\n      <td>27155</td>\n      <td>Batman/Superman Movie, The</td>\n      <td>[Action, Adventure, Animation, Children, Fanta...</td>\n      <td>1998</td>\n    </tr>\n    <tr>\n      <th>9400</th>\n      <td>27608</td>\n      <td>Immortel (ad vitam) (Immortal)</td>\n      <td>[Action, Adventure, Animation, Fantasy, Sci-Fi]</td>\n      <td>2004</td>\n    </tr>\n    <tr>\n      <th>9588</th>\n      <td>30793</td>\n      <td>Charlie and the Chocolate Factory</td>\n      <td>[Adventure, Children, Comedy, Fantasy, IMAX]</td>\n      <td>2005</td>\n    </tr>\n    <tr>\n      <th>9825</th>\n      <td>32031</td>\n      <td>Robots</td>\n      <td>[Adventure, Animation, Children, Comedy, Fanta...</td>\n      <td>2005</td>\n    </tr>\n    <tr>\n      <th>10575</th>\n      <td>40339</td>\n      <td>Chicken Little</td>\n      <td>[Action, Adventure, Animation, Children, Comed...</td>\n      <td>2005</td>\n    </tr>\n    <tr>\n      <th>11197</th>\n      <td>47124</td>\n      <td>Ant Bully, The</td>\n      <td>[Adventure, Animation, Children, Comedy, Fanta...</td>\n      <td>2006</td>\n    </tr>\n    <tr>\n      <th>11716</th>\n      <td>51632</td>\n      <td>Atlantis: Milo's Return</td>\n      <td>[Action, Adventure, Animation, Children, Comed...</td>\n      <td>2003</td>\n    </tr>\n    <tr>\n      <th>11751</th>\n      <td>51939</td>\n      <td>TMNT (Teenage Mutant Ninja Turtles)</td>\n      <td>[Action, Adventure, Animation, Children, Comed...</td>\n      <td>2007</td>\n    </tr>\n    <tr>\n      <th>11785</th>\n      <td>52287</td>\n      <td>Meet the Robinsons</td>\n      <td>[Action, Adventure, Animation, Children, Comed...</td>\n      <td>2007</td>\n    </tr>\n    <tr>\n      <th>11806</th>\n      <td>52462</td>\n      <td>Aqua Teen Hunger Force Colon Movie Film for Th...</td>\n      <td>[Action, Adventure, Animation, Comedy, Fantasy...</td>\n      <td>2007</td>\n    </tr>\n    <tr>\n      <th>11838</th>\n      <td>52722</td>\n      <td>Spider-Man 3</td>\n      <td>[Action, Adventure, Sci-Fi, Thriller, IMAX]</td>\n      <td>2007</td>\n    </tr>\n    <tr>\n      <th>12021</th>\n      <td>54278</td>\n      <td>Underdog</td>\n      <td>[Action, Adventure, Children, Comedy, Fantasy,...</td>\n      <td>2007</td>\n    </tr>\n    <tr>\n      <th>12246</th>\n      <td>55995</td>\n      <td>Beowulf</td>\n      <td>[Action, Adventure, Animation, Fantasy, IMAX]</td>\n      <td>2007</td>\n    </tr>\n    <tr>\n      <th>12520</th>\n      <td>58404</td>\n      <td>Justice League: The New Frontier</td>\n      <td>[Action, Adventure, Animation, Fantasy, Sci-Fi]</td>\n      <td>2008</td>\n    </tr>\n    <tr>\n      <th>13109</th>\n      <td>62956</td>\n      <td>Futurama: Bender's Game</td>\n      <td>[Action, Adventure, Animation, Comedy, Fantasy...</td>\n      <td>2008</td>\n    </tr>\n    <tr>\n      <th>13113</th>\n      <td>62999</td>\n      <td>Madagascar: Escape 2 Africa</td>\n      <td>[Action, Adventure, Animation, Children, Comed...</td>\n      <td>2008</td>\n    </tr>\n    <tr>\n      <th>14196</th>\n      <td>71129</td>\n      <td>Green Lantern: First Flight</td>\n      <td>[Action, Adventure, Animation, Fantasy, Sci-Fi]</td>\n      <td>2009</td>\n    </tr>\n    <tr>\n      <th>15057</th>\n      <td>76093</td>\n      <td>How to Train Your Dragon</td>\n      <td>[Adventure, Animation, Children, Fantasy, IMAX]</td>\n      <td>2010</td>\n    </tr>\n    <tr>\n      <th>15230</th>\n      <td>77561</td>\n      <td>Iron Man 2</td>\n      <td>[Action, Adventure, Sci-Fi, Thriller, IMAX]</td>\n      <td>2010</td>\n    </tr>\n    <tr>\n      <th>15429</th>\n      <td>78499</td>\n      <td>Toy Story 3</td>\n      <td>[Adventure, Animation, Children, Comedy, Fanta...</td>\n      <td>2010</td>\n    </tr>\n    <tr>\n      <th>15453</th>\n      <td>78637</td>\n      <td>Shrek Forever After (a.k.a. Shrek: The Final C...</td>\n      <td>[Adventure, Animation, Children, Comedy, Fanta...</td>\n      <td>2010</td>\n    </tr>\n    <tr>\n      <th>15783</th>\n      <td>80083</td>\n      <td>Dragon Ball Z: Dead Zone (Doragon bôru Z 1: Or...</td>\n      <td>[Action, Adventure, Animation, Fantasy, Sci-Fi]</td>\n      <td>1989</td>\n    </tr>\n    <tr>\n      <th>16150</th>\n      <td>81564</td>\n      <td>Megamind</td>\n      <td>[Action, Animation, Children, Comedy, Sci-Fi, ...</td>\n      <td>2010</td>\n    </tr>\n    <tr>\n      <th>16884</th>\n      <td>85261</td>\n      <td>Mars Needs Moms</td>\n      <td>[Action, Adventure, Animation, Children, Comed...</td>\n      <td>2011</td>\n    </tr>\n    <tr>\n      <th>17313</th>\n      <td>87222</td>\n      <td>Kung Fu Panda 2</td>\n      <td>[Action, Adventure, Animation, Children, Comed...</td>\n      <td>2011</td>\n    </tr>\n    <tr>\n      <th>18143</th>\n      <td>90647</td>\n      <td>Puss in Boots</td>\n      <td>[Adventure, Animation, Comedy, Fantasy, IMAX]</td>\n      <td>2011</td>\n    </tr>\n    <tr>\n      <th>18662</th>\n      <td>92681</td>\n      <td>Journey 2: The Mysterious Island</td>\n      <td>[Action, Adventure, Comedy, Sci-Fi, IMAX]</td>\n      <td>2012</td>\n    </tr>\n    <tr>\n      <th>19963</th>\n      <td>98243</td>\n      <td>Rise of the Guardians</td>\n      <td>[Adventure, Animation, Children, Fantasy, IMAX]</td>\n      <td>2012</td>\n    </tr>\n    <tr>\n      <th>20681</th>\n      <td>101076</td>\n      <td>G.I. Joe: Retaliation</td>\n      <td>[Action, Adventure, Sci-Fi, Thriller, IMAX]</td>\n      <td>2013</td>\n    </tr>\n    <tr>\n      <th>21210</th>\n      <td>103042</td>\n      <td>Man of Steel</td>\n      <td>[Action, Adventure, Fantasy, Sci-Fi, IMAX]</td>\n      <td>2013</td>\n    </tr>\n    <tr>\n      <th>21403</th>\n      <td>103651</td>\n      <td>Tai Chi Hero</td>\n      <td>[Action, Comedy, Drama, Fantasy, Sci-Fi, IMAX]</td>\n      <td>2012</td>\n    </tr>\n    <tr>\n      <th>21407</th>\n      <td>103659</td>\n      <td>Justice League: The Flashpoint Paradox</td>\n      <td>[Action, Adventure, Animation, Fantasy, Sci-Fi]</td>\n      <td>2013</td>\n    </tr>\n    <tr>\n      <th>22145</th>\n      <td>106240</td>\n      <td>Free Birds</td>\n      <td>[Action, Adventure, Animation, Children, Comed...</td>\n      <td>2013</td>\n    </tr>\n    <tr>\n      <th>22760</th>\n      <td>108501</td>\n      <td>Justice League: War</td>\n      <td>[Action, Adventure, Animation, Fantasy, Sci-Fi]</td>\n      <td>2014</td>\n    </tr>\n    <tr>\n      <th>22881</th>\n      <td>108932</td>\n      <td>The Lego Movie</td>\n      <td>[Action, Adventure, Animation, Children, Comed...</td>\n      <td>2014</td>\n    </tr>\n    <tr>\n      <th>25915</th>\n      <td>120833</td>\n      <td>Super Capers</td>\n      <td>[Action, Adventure, Comedy, Fantasy, Sci-Fi]</td>\n      <td>2009</td>\n    </tr>\n    <tr>\n      <th>28220</th>\n      <td>130520</td>\n      <td>Home</td>\n      <td>[Adventure, Animation, Children, Comedy, Fanta...</td>\n      <td>2015</td>\n    </tr>\n    <tr>\n      <th>29873</th>\n      <td>136000</td>\n      <td>Journey to the Center of the Earth</td>\n      <td>[Action, Adventure, Children, Fantasy, Sci-Fi]</td>\n      <td>1999</td>\n    </tr>\n    <tr>\n      <th>30066</th>\n      <td>136618</td>\n      <td>Pokémon the Movie: Genesect and the Legend Awa...</td>\n      <td>[Action, Adventure, Animation, Children, Fanta...</td>\n      <td>2013</td>\n    </tr>\n    <tr>\n      <th>32313</th>\n      <td>144350</td>\n      <td>Under the Mountain</td>\n      <td>[Action, Adventure, Children, Drama, Fantasy, ...</td>\n      <td>2009</td>\n    </tr>\n  </tbody>\n</table>\n</div>"
     },
     "metadata": {},
     "execution_count": 275
    }
   ],
   "source": [
    "#Finally display the final recommendation table by using the movieId as a key to search the movie dataset\n",
    "finalRecommendation = moviesDataFrame.loc[moviesDataFrame[\"movieId\"].isin(recommendationDataFrame.head(50).keys())]\n",
    "finalRecommendation"
   ]
  },
  {
   "cell_type": "code",
   "execution_count": 278,
   "metadata": {},
   "outputs": [
    {
     "output_type": "stream",
     "name": "stdout",
     "text": [
      "success\n"
     ]
    }
   ],
   "source": [
    "#Check to see if extra movie user likes is on the top 50\n",
    "if \"Journey to the Center of the Earth\" in finalRecommendation[\"title\"].values:\n",
    "    print(\"success\")\n",
    "else:\n",
    "    print(\"no\")"
   ]
  }
 ]
}